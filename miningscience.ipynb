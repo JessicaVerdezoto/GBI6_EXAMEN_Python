{
 "cells": [
  {
   "cell_type": "markdown",
   "metadata": {},
   "source": [
    "**Códigos utilizados** "
   ]
  },
  {
   "cell_type": "code",
   "execution_count": 10,
   "metadata": {},
   "outputs": [],
   "source": [
    "import Bio \n",
    "from Bio import Entrez\n",
    "import re\n",
    "import pandas as pd\n",
    "import csv\n",
    "import itertools\n",
    "import numpy as np\n"
   ]
  },
  {
   "cell_type": "code",
   "execution_count": 9,
   "metadata": {},
   "outputs": [],
   "source": [
    "def download_pubmed(keyword: str):\n",
    "    \"\"\"La primera función download_pubmed se usa para extraer el conteo\n",
    "     de los IDs de los artículos con una palabra clave -keyword- definida respectivamente\"\"\"\n",
    "    Entrez.email = \"jessica.verdezoto@est.ikiam.edu.ec\"\n",
    "    hand = Entrez.esearch(db=\"pubmed\",\n",
    "                        retmax=1000000,\n",
    "                        retmode='xml',\n",
    "                        term=keyword)\n",
    "    dat = Entrez.read(hand)                    \n",
    "    hand.close()\n",
    "    return dat\n"
   ]
  },
  {
   "cell_type": "code",
   "execution_count": 21,
   "metadata": {},
   "outputs": [],
   "source": [
    "def mining_pubs(tipo: str) -> pd.DataFrame :\n",
    "    \"\"\"La segunda función mining_pubs se usa para extraer datos mas precisos ubicados en el texto, utilizando otros parametros, en este caso usamos -tipo-\"\"\"\n",
    "    \"\"\"\n",
    "    Si el tipo es \"DP\" proporciona el año de publicación de el artículo. Retorna como un dataframe con el -PMID- y el -DP_year-.\n",
    "    Si el tipo es \"AU\" proporciona el número de autores por PMID. Retorna como un dataframe con el -PMID- y el -num_auth-. \n",
    "    Si el tipo es \"AD\" proporcion el conteo de autores por país. El retorno es un dataframe con el -country- y el -num_auth-.\n",
    "    \"\"\"\n",
    "    info =download_pubmed ('Ecuador genomics') \n",
    "\n",
    "    res_iD = info['IdList'] #Se obtiene los IDs\n",
    "    ids = ','.join(res_iD)\n",
    "    Entrez.email = \"jessica.verdezoto@est.ikiam.edu.ec\"\n",
    "    hand = Entrez.efetch(db=\"pubmed\",\n",
    "                        rettype='medline',\n",
    "                        retmode='text',\n",
    "                        id=ids)\n",
    "    datos = hand.read()  \n",
    "\n",
    "    if (tipo == \"DP\"): #Primer literal PMID Y DP_year\n",
    "\n",
    "        zipcodes = re.findall(r'PMID-.(.+)', datos) #Para el ID de cada artículo\n",
    "        zipcodes1 = re.findall(r'DP  -.(\\d+)', datos) #Para el año de publicación de los artículos\n",
    "        zipcodes1 = [int(i) for i in zipcodes1]  \n",
    "        allDat = list(zip(zipcodes,zipcodes1))\n",
    "        nom_colum = ['PMID','DP_year']\n",
    "    else:\n",
    "        if(tipo == \"AU\"): #Segundo literal PMID Y num_auth\n",
    "            zipcodes = re.findall(r'PMID-.(.+)|(AU)  -|', datos) \n",
    "            nom_colum = ['PMID','num_auth']\n",
    "            \n",
    "        elif(tipo == \"AD\"):#Tercer literal country y el num_auth\n",
    "            zipcodes = re.findall(r'PL  -.(.+)|(AU)  -|', datos)\n",
    "            nom_colum = ['country','num_auth']\n",
    "\n",
    "        allDat = list()\n",
    "        for x in zipcodes:\n",
    "            if(x[0]!=''):\n",
    "                allDat.append((x[0],''))\n",
    "            elif(x[1]!=''):\n",
    "                allDat.append(('',x[1]))\n",
    "\n",
    "        zipcodes = allDat       \n",
    "        list1 = list()\n",
    "        list2 = list()\n",
    "        va_c = 0\n",
    "        for y in zipcodes:\n",
    "            if(y[0] !=''):\n",
    "                x_0 = y[0]\n",
    "                list1.append(y[0])\n",
    "                if(va_c != 0):\n",
    "                    list2.append(va_c)\n",
    "                    va_c = 0\n",
    "            else:\n",
    "                va_c = va_c+1          \n",
    "        allDat = list(zip(list1,list2))\n",
    "        \n",
    "    hand.close()\n",
    "    info = pd.DataFrame(allDat, columns=nom_colum) \n",
    "    return info"
   ]
  }
 ],
 "metadata": {
  "interpreter": {
   "hash": "0d94aeb0fda600462896a7de48466bc69c99574dd7deb896b47301d9a511e794"
  },
  "kernelspec": {
   "display_name": "Python 3.10.1 64-bit",
   "language": "python",
   "name": "python3"
  },
  "language_info": {
   "codemirror_mode": {
    "name": "ipython",
    "version": 3
   },
   "file_extension": ".py",
   "mimetype": "text/x-python",
   "name": "python",
   "nbconvert_exporter": "python",
   "pygments_lexer": "ipython3",
   "version": "3.10.1"
  },
  "orig_nbformat": 4
 },
 "nbformat": 4,
 "nbformat_minor": 2
}
