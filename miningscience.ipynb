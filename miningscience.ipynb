{
 "cells": [
  {
   "cell_type": "markdown",
   "metadata": {},
   "source": [
    "**Códigos utilizados** "
   ]
  },
  {
   "cell_type": "code",
   "execution_count": 1,
   "metadata": {},
   "outputs": [],
   "source": [
    "import Bio \n",
    "from Bio import Entrez\n",
    "import re"
   ]
  },
  {
   "cell_type": "code",
   "execution_count": 9,
   "metadata": {},
   "outputs": [],
   "source": [
    "def download_pubmed(keyword):\n",
    "    \"\"\"La primera función download_pubmed se usa para extraer el conteo de los artículos con una palabra clave -keyword- definida respectivamente\"\"\"\n",
    "    Entrez.email = \"jessica.verdezoto@est.ikiam.edu.ec\"\n",
    "    hd1 = Entrez.read(Entrez.esearch(db=\"pubmed\",\n",
    "                        term=keyword,\n",
    "                        usehistory=\"y\"))\n",
    "    webenv = record[\"WebEnv\"]\n",
    "    query_key = record[\"QueryKey\"]\n",
    "    hd1 = Entrez.efetch(db=\"pubmed\",\n",
    "                    retstart =0,\n",
    "                    rettype=\"medline\",\n",
    "                    retmode=\"text\",\n",
    "                    retmax=543,webenv=webenv, query_key=query_key)\n",
    "    out_hd1 = open(\"keyword.txt\", \"w\")\n",
    "    data = hd1.read()\n",
    "    datos = re.sub(r'\\n\\s{6}', '', data)\n",
    "    return datos\n"
   ]
  },
  {
   "cell_type": "code",
   "execution_count": 11,
   "metadata": {},
   "outputs": [
    {
     "ename": "SyntaxError",
     "evalue": "invalid syntax (2244992499.py, line 3)",
     "output_type": "error",
     "traceback": [
      "\u001b[1;36m  Input \u001b[1;32mIn [11]\u001b[1;36m\u001b[0m\n\u001b[1;33m    * Si el tipo es \"DP\" proporciona el año de publicación del artículo. Retorna como un *dataframe* con el **PMID** y el **DP_year**.\u001b[0m\n\u001b[1;37m         ^\u001b[0m\n\u001b[1;31mSyntaxError\u001b[0m\u001b[1;31m:\u001b[0m invalid syntax\n"
     ]
    }
   ],
   "source": [
    "def mining_pubs(tipo):\n",
    "    \"\"\"La segunda función mining_pubs se usa para extraer datos mas precisos ubicados en el texto, utilizando otros parametros, en este caso usamos -tipo-\"\"\"\n",
    "    * Si el tipo es \"DP\" proporciona el año de publicación del artículo. Retorna como un *dataframe* con el **PMID** y el **DP_year**.\n",
    "    * Si el tipo es \"AU\" proporciona el número de autores por **PMID**. Retorna como un *dataframe* con el **PMID** y el **num_auth**. \n",
    "    * Si el tipo es \"AD\" proporcion el conteo de autores por país. El retorno es un *dataframe* con el **country** y el **num_auth**.\n",
    "    \n",
    "    pass\n",
    "    return"
   ]
  }
 ],
 "metadata": {
  "interpreter": {
   "hash": "0d94aeb0fda600462896a7de48466bc69c99574dd7deb896b47301d9a511e794"
  },
  "kernelspec": {
   "display_name": "Python 3.10.1 64-bit",
   "language": "python",
   "name": "python3"
  },
  "language_info": {
   "codemirror_mode": {
    "name": "ipython",
    "version": 3
   },
   "file_extension": ".py",
   "mimetype": "text/x-python",
   "name": "python",
   "nbconvert_exporter": "python",
   "pygments_lexer": "ipython3",
   "version": "3.10.1"
  },
  "orig_nbformat": 4
 },
 "nbformat": 4,
 "nbformat_minor": 2
}
