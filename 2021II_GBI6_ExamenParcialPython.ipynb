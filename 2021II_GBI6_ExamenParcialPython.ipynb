{
 "cells": [
  {
   "cell_type": "markdown",
   "metadata": {},
   "source": [
    "<img src=\"https://www.ikiam.edu.ec/img/logo-ikiam-grey.png\" width=300 height=240 />\n",
    "\n",
    "# EXAMEN PARCIAL PYTHON\n",
    "    \n",
    "\n",
    "## GBI6-2021II: BIOINFORMÁTICA\n",
    "\n",
    "**Verdezoto Prado, Jessica Jacqueline**\n",
    "\n",
    "**18-02-2021**"
   ]
  },
  {
   "cell_type": "markdown",
   "metadata": {},
   "source": [
    "### REQUERIMIENTOS PARA EL EXAMEN\n",
    "Para este examen se requiere dos documentos: \n",
    "\n",
    "1. Archivo ```miningscience.py``` donde tendrá dos funciones:\n",
    "\n",
    "2. Archivo ```2021II_GBI6_ExamenParcialPython``` donde se llamará las funciones y se obtendrá resultados."
   ]
  },
  {
   "cell_type": "markdown",
   "metadata": {},
   "source": [
    "## Ejercicio 1 [2 puntos]\n",
    "Cree el archivo ```miningscience.py``` con las siguientes dosfunciones:\n",
    "    \n",
    "i. ```download_pubmed```: para descargar la data de PubMed utilizando el **ENTREZ** de Biopython. El parámetro de entrada para la función es el ```keyword```. \n",
    "    \n",
    "ii. ```mining_pubs```: esta función debe utilizar el módulo **re** y utilizar el párametro ```tipo``` para realizar lo siguiente:\n",
    "        \n",
    "* Si el tipo es \"DP\" recupera el año de publicación del artículo. El retorno es un *dataframe* con el **PMID** y el **DP_year**.\n",
    "      \n",
    "* Si el tipo es \"AU\" recupera el número de autores por **PMID**. El retorno es un *dataframe* con el **PMID** y el **num_auth**. \n",
    "      \n",
    "* Si el tipo es \"AD\" recupera el conteo de autores por país. El retorno es un *dataframe* con el **country** y el **num_auth**. \n",
    "\n",
    "* *Puede utilizar un ```if``` dentro de la función.* \n",
    "\n",
    "* *Cree un docstring para cada función.* \n",
    "\n",
    "Luego de crear las funciones, cargue el módulo ```miningscience``` como ```msc``` e imprima docstring de cada función.\n",
    "\n",
    "\n"
   ]
  },
  {
   "cell_type": "code",
   "execution_count": 4,
   "metadata": {},
   "outputs": [
    {
     "name": "stdout",
     "output_type": "stream",
     "text": [
      "Descripción de l funcion download_pubmed:\n",
      "Help on function download_pubmed in module miningscience:\n",
      "\n",
      "download_pubmed(keyword: str)\n",
      "    La primera función download_pubmed se usa para extraer el conteo\n",
      "    de los IDs de los artículos con una palabra clave -keyword- definida respectivamente\n",
      "\n",
      "Descripción de la funcion mining_pubs:\n",
      "Help on function mining_pubs in module miningscience:\n",
      "\n",
      "mining_pubs(tipo: str) -> pandas.core.frame.DataFrame\n",
      "    La segunda función mining_pubs se usa para extraer datos mas precisos ubicados en el texto, utilizando otros parametros, en este caso usamos -tipo-\n",
      "\n"
     ]
    }
   ],
   "source": [
    "%reload_ext autoreload\n",
    "%autoreload 2\n",
    "import importlib\n",
    "import miningscience\n",
    "importlib.reload(miningscience)\n",
    "# Escriba aquí su código para el ejercicio 1\n",
    "import miningscience as msc\n",
    "\n",
    "print(\"Descripción de l funcion download_pubmed:\")\n",
    "help(msc.download_pubmed)\n",
    "\n",
    "print(\"Descripción de la funcion mining_pubs:\")\n",
    "help(msc.mining_pubs)\n"
   ]
  },
  {
   "cell_type": "markdown",
   "metadata": {},
   "source": [
    "\n",
    "## Ejercicio 2 [1 punto]\n",
    "\n",
    "\n",
    "Utilice la función ```download_pubmed``` para descargar la data con el keyword ```Ecuador proteomics``` e imprima lo siguiente: \n",
    "\n",
    "```python\n",
    "'El número de artículos es: xx' # xx corresponde al número de artículos recuperados\n",
    "\n",
    "'El PMID del primer artículo es: xxxxxxxx' # xxxxxxxx corresponde al ID del artículo en PUDMED\n",
    "\n",
    "```"
   ]
  },
  {
   "cell_type": "code",
   "execution_count": 5,
   "metadata": {},
   "outputs": [
    {
     "name": "stdout",
     "output_type": "stream",
     "text": [
      "El número de artículos es: 193\n",
      "El PMID del primer artículo es: 35121084\n"
     ]
    }
   ],
   "source": [
    "Info = msc.download_pubmed(\"Ecuador genomics\")\n",
    "Info_count = Info[\"Count\"]\n",
    "first_element_id = Info[\"IdList\"][0]\n",
    "print(f\"El número de artículos es: {Info_count}\") # xx corresponde al número de artículos recuperados\n",
    "\n",
    "print(f\"El PMID del primer artículo es: {first_element_id}\") # xxxxxx"
   ]
  },
  {
   "cell_type": "markdown",
   "metadata": {},
   "source": [
    "## Ejercicio 3 [1 punto]\n",
    "\n",
    "Utilice la función ```mining_pubs``` para crear los siguientes dataframes: \n",
    "\n",
    "* pub_year\n",
    "\n",
    "* pub_authors\n",
    "\n",
    "* coutries\n",
    "\n",
    "Muestre los dos primeros y los dos últimos registros de cada dataframe. "
   ]
  },
  {
   "cell_type": "code",
   "execution_count": 6,
   "metadata": {},
   "outputs": [
    {
     "name": "stdout",
     "output_type": "stream",
     "text": [
      "Dataframe de articulos con año:\n",
      "PMID       object\n",
      "DP_year     int64\n",
      "dtype: object\n"
     ]
    },
    {
     "data": {
      "text/html": [
       "<div>\n",
       "<style scoped>\n",
       "    .dataframe tbody tr th:only-of-type {\n",
       "        vertical-align: middle;\n",
       "    }\n",
       "\n",
       "    .dataframe tbody tr th {\n",
       "        vertical-align: top;\n",
       "    }\n",
       "\n",
       "    .dataframe thead th {\n",
       "        text-align: right;\n",
       "    }\n",
       "</style>\n",
       "<table border=\"1\" class=\"dataframe\">\n",
       "  <thead>\n",
       "    <tr style=\"text-align: right;\">\n",
       "      <th></th>\n",
       "      <th>PMID</th>\n",
       "      <th>DP_year</th>\n",
       "    </tr>\n",
       "  </thead>\n",
       "  <tbody>\n",
       "    <tr>\n",
       "      <th>191</th>\n",
       "      <td>17187350</td>\n",
       "      <td>2007</td>\n",
       "    </tr>\n",
       "    <tr>\n",
       "      <th>192</th>\n",
       "      <td>8661097</td>\n",
       "      <td>1996</td>\n",
       "    </tr>\n",
       "  </tbody>\n",
       "</table>\n",
       "</div>"
      ],
      "text/plain": [
       "         PMID  DP_year\n",
       "191  17187350     2007\n",
       "192   8661097     1996"
      ]
     },
     "metadata": {},
     "output_type": "display_data"
    },
    {
     "name": "stdout",
     "output_type": "stream",
     "text": [
      "\n",
      "Dataframe de articulos con autores:\n"
     ]
    },
    {
     "data": {
      "text/html": [
       "<div>\n",
       "<style scoped>\n",
       "    .dataframe tbody tr th:only-of-type {\n",
       "        vertical-align: middle;\n",
       "    }\n",
       "\n",
       "    .dataframe tbody tr th {\n",
       "        vertical-align: top;\n",
       "    }\n",
       "\n",
       "    .dataframe thead th {\n",
       "        text-align: right;\n",
       "    }\n",
       "</style>\n",
       "<table border=\"1\" class=\"dataframe\">\n",
       "  <thead>\n",
       "    <tr style=\"text-align: right;\">\n",
       "      <th></th>\n",
       "      <th>PMID</th>\n",
       "      <th>num_auth</th>\n",
       "    </tr>\n",
       "  </thead>\n",
       "  <tbody>\n",
       "    <tr>\n",
       "      <th>0</th>\n",
       "      <td>35121084</td>\n",
       "      <td>12</td>\n",
       "    </tr>\n",
       "    <tr>\n",
       "      <th>1</th>\n",
       "      <td>35120121</td>\n",
       "      <td>14</td>\n",
       "    </tr>\n",
       "  </tbody>\n",
       "</table>\n",
       "</div>"
      ],
      "text/plain": [
       "       PMID  num_auth\n",
       "0  35121084        12\n",
       "1  35120121        14"
      ]
     },
     "metadata": {},
     "output_type": "display_data"
    },
    {
     "data": {
      "text/html": [
       "<div>\n",
       "<style scoped>\n",
       "    .dataframe tbody tr th:only-of-type {\n",
       "        vertical-align: middle;\n",
       "    }\n",
       "\n",
       "    .dataframe tbody tr th {\n",
       "        vertical-align: top;\n",
       "    }\n",
       "\n",
       "    .dataframe thead th {\n",
       "        text-align: right;\n",
       "    }\n",
       "</style>\n",
       "<table border=\"1\" class=\"dataframe\">\n",
       "  <thead>\n",
       "    <tr style=\"text-align: right;\">\n",
       "      <th></th>\n",
       "      <th>PMID</th>\n",
       "      <th>num_auth</th>\n",
       "    </tr>\n",
       "  </thead>\n",
       "  <tbody>\n",
       "    <tr>\n",
       "      <th>189</th>\n",
       "      <td>19177531</td>\n",
       "      <td>7</td>\n",
       "    </tr>\n",
       "    <tr>\n",
       "      <th>190</th>\n",
       "      <td>19018989</td>\n",
       "      <td>1</td>\n",
       "    </tr>\n",
       "  </tbody>\n",
       "</table>\n",
       "</div>"
      ],
      "text/plain": [
       "         PMID  num_auth\n",
       "189  19177531         7\n",
       "190  19018989         1"
      ]
     },
     "metadata": {},
     "output_type": "display_data"
    },
    {
     "name": "stdout",
     "output_type": "stream",
     "text": [
      "\n",
      "Dataframe de número de articulos por pais:\n"
     ]
    },
    {
     "data": {
      "text/html": [
       "<div>\n",
       "<style scoped>\n",
       "    .dataframe tbody tr th:only-of-type {\n",
       "        vertical-align: middle;\n",
       "    }\n",
       "\n",
       "    .dataframe tbody tr th {\n",
       "        vertical-align: top;\n",
       "    }\n",
       "\n",
       "    .dataframe thead th {\n",
       "        text-align: right;\n",
       "    }\n",
       "</style>\n",
       "<table border=\"1\" class=\"dataframe\">\n",
       "  <thead>\n",
       "    <tr style=\"text-align: right;\">\n",
       "      <th></th>\n",
       "      <th>country</th>\n",
       "      <th>num_auth</th>\n",
       "    </tr>\n",
       "  </thead>\n",
       "  <tbody>\n",
       "    <tr>\n",
       "      <th>0</th>\n",
       "      <td>United States</td>\n",
       "      <td>12</td>\n",
       "    </tr>\n",
       "    <tr>\n",
       "      <th>1</th>\n",
       "      <td>United States</td>\n",
       "      <td>14</td>\n",
       "    </tr>\n",
       "  </tbody>\n",
       "</table>\n",
       "</div>"
      ],
      "text/plain": [
       "         country  num_auth\n",
       "0  United States        12\n",
       "1  United States        14"
      ]
     },
     "metadata": {},
     "output_type": "display_data"
    },
    {
     "data": {
      "text/html": [
       "<div>\n",
       "<style scoped>\n",
       "    .dataframe tbody tr th:only-of-type {\n",
       "        vertical-align: middle;\n",
       "    }\n",
       "\n",
       "    .dataframe tbody tr th {\n",
       "        vertical-align: top;\n",
       "    }\n",
       "\n",
       "    .dataframe thead th {\n",
       "        text-align: right;\n",
       "    }\n",
       "</style>\n",
       "<table border=\"1\" class=\"dataframe\">\n",
       "  <thead>\n",
       "    <tr style=\"text-align: right;\">\n",
       "      <th></th>\n",
       "      <th>country</th>\n",
       "      <th>num_auth</th>\n",
       "    </tr>\n",
       "  </thead>\n",
       "  <tbody>\n",
       "    <tr>\n",
       "      <th>190</th>\n",
       "      <td>England</td>\n",
       "      <td>1</td>\n",
       "    </tr>\n",
       "    <tr>\n",
       "      <th>191</th>\n",
       "      <td>United States</td>\n",
       "      <td>9</td>\n",
       "    </tr>\n",
       "  </tbody>\n",
       "</table>\n",
       "</div>"
      ],
      "text/plain": [
       "           country  num_auth\n",
       "190        England         1\n",
       "191  United States         9"
      ]
     },
     "metadata": {},
     "output_type": "display_data"
    }
   ],
   "source": [
    "print(\"Dataframe de articulos con año:\")\n",
    "Datf_pub_year = msc.mining_pubs(\"DP\")\n",
    "print(Datf_pub_year.dtypes)\n",
    "display(Datf_pub_year.tail(2))\n",
    "\n",
    "print(\"\\nDataframe de articulos con autores:\")\n",
    "Datf_pub_authors = msc.mining_pubs(\"AU\")\n",
    "display(Datf_pub_authors.head(2))\n",
    "display(Datf_pub_authors.tail(2))\n",
    "\n",
    "print(\"\\nDataframe de número de articulos por pais:\")\n",
    "Datf_countries = msc.mining_pubs(\"AD\")\n",
    "display(Datf_countries.head(2))\n",
    "display(Datf_countries.tail(2))\n"
   ]
  },
  {
   "cell_type": "markdown",
   "metadata": {
    "jp-MarkdownHeadingCollapsed": true,
    "tags": []
   },
   "source": [
    "## Ejercicio 4 [2 puntos]\n",
    "\n",
    "Realice la visualización de los datos del ejercicio 3. \n",
    "\n",
    "* ```pubyear```: utilizando el conteo artículos por año, calcule la media y la desviación estandar (asumiendo que la distribución es normal). Realice un gráfico de la distribución normal de sus datos. Coloque el título, leyenda de los ejes \"x\" e \"y\", y la leyenda de la curva (utilice las expresiones matemáticas tipos latex de ser necesario). \n",
    "\n",
    "* ```pub_authors```: realice un boxplot del conteo de autores por artículo. Coloque las leyendas adecuadas para cada eje y el título.  \n",
    "\n",
    "* ```countries```: realice una nube de puntos (adaptación de su tarea), resalte al menos 3 países con flechas. Coloque las leyendas adecuadas para cada eje y el título. \n"
   ]
  },
  {
   "cell_type": "code",
   "execution_count": 7,
   "metadata": {},
   "outputs": [
    {
     "data": {
      "text/plain": [
       "Text(138.252924, 36.204824, 'Japan')"
      ]
     },
     "execution_count": 7,
     "metadata": {},
     "output_type": "execute_result"
    },
    {
     "data": {
      "image/png": "[encoded data removed]",
      "text/plain": [
       "<Figure size 432x288 with 1 Axes>"
      ]
     },
     "metadata": {
      "needs_background": "light"
     },
     "output_type": "display_data"
    },
    {
     "data": {
      "image/png": "[encoded data removed]",
      "text/plain": [
       "<Figure size 432x288 with 1 Axes>"
      ]
     },
     "metadata": {
      "needs_background": "light"
     },
     "output_type": "display_data"
    },
    {
     "data": {
      "image/png": "[encoded data removed]",
      "text/plain": [
       "<Figure size 720x360 with 2 Axes>"
      ]
     },
     "metadata": {
      "needs_background": "light"
     },
     "output_type": "display_data"
    }
   ],
   "source": [
    "import numpy as np\n",
    "import matplotlib.pyplot as plt\n",
    "import pandas as pd\n",
    "from scipy.stats import norm\n",
    "\n",
    "# Datf_pub_yer\n",
    "median_pubyr = Datf_pub_year.median(numeric_only=True)\n",
    "D_standar_pubyr = Datf_pub_year.std(numeric_only=True)\n",
    "\n",
    "\n",
    "ptos = np.arange(2000, 2030, 1)\n",
    "\n",
    "fig1, ax1 = plt.subplots()\n",
    "\n",
    "label = \"Desviacion normal\"\n",
    "ax1.plot(ptos, norm.pdf(ptos,median_pubyr, D_standar_pubyr), label=label)\n",
    "ax1.set_title(\"Distribución normal de Años de publicación\")\n",
    "ax1.set_xlabel(\"Distribución\")\n",
    "ax1.set_ylabel(\"Años de publicación\")\n",
    "ax1.legend(loc = \"upper left\")\n",
    "\n",
    "# Datf_pub_authors\n",
    "Datf_pub_authors.drop(Datf_pub_authors[Datf_pub_authors['num_auth'] > 100].index, inplace=True) \n",
    "Datf_pub_authors.sort_values(by=\"num_auth\", ascending=False, inplace=True) #Se ordenan los datos\n",
    "\n",
    "fig2, ax2 = plt.subplots()\n",
    "\n",
    "ax2.boxplot(Datf_pub_authors[\"num_auth\"])\n",
    "\n",
    "# Datf_countries\n",
    "#Latitud y Longitud\n",
    "LatLon_countries = pd.read_csv('./data/Lat_countries.csv', engine='python', skipfooter=3)\n",
    "\n",
    "LatLon_countries['name'] = LatLon_countries['name'].str.lower()\n",
    "LatLon_countries= LatLon_countries.rename(columns={'name': 'country_name'})\n",
    "\n",
    "Datf_countries['country'] = Datf_countries['country'].str.lower()\n",
    "\n",
    "Datf_countries = Datf_countries.rename(columns={'country': 'country_name'})\n",
    "\n",
    "Alldata = pd.concat([Datf_countries, LatLon_countries]).groupby(['country_name']).sum()\n",
    "\n",
    "Alldata = Alldata[Alldata['num_auth'].notna()]\n",
    "\n",
    "\n",
    "plt.figure(figsize=(10,5))\n",
    "plt.title('Puntos Distribuidos')\n",
    "plt.xlabel('Latitud')\n",
    "plt.ylabel('Longitud')\n",
    "\n",
    "\n",
    "plt.scatter(Alldata['longitude'], Alldata['latitude'], c=Alldata['latitude'], marker='o', label='Puntos')\n",
    "plt.colorbar()\n",
    "\n",
    "plt.annotate('Spain', xy= (Alldata.loc['spain']['longitude'], Alldata.loc['spain']['latitude']), arrowprops={'arrowstyle': '->'})\n",
    "plt.annotate('China', xy= (Alldata.loc['china']['longitude'], Alldata.loc['china']['latitude']), arrowprops={'arrowstyle': '->'})\n",
    "plt.annotate('Ecuador', xy= (Alldata.loc['ecuador']['longitude'], Alldata.loc['ecuador']['latitude']), arrowprops={'arrowstyle': '->'})\n",
    "plt.annotate('Japan', xy= (Alldata.loc['japan']['longitude'], Alldata.loc['japan']['latitude']), arrowprops={'arrowstyle': '->'})\n"
   ]
  },
  {
   "cell_type": "markdown",
   "metadata": {},
   "source": [
    "## Ejercicio 5 [1 punto]\n",
    "\n",
    "Interprete los resultados del **ejercicio 4**"
   ]
  },
  {
   "cell_type": "markdown",
   "metadata": {},
   "source": [
    "### Escriba la respuesta del ejercicio 5\n"
   ]
  },
  {
   "cell_type": "markdown",
   "metadata": {},
   "source": [
    "## Ejercicio 6 [2 puntos]\n",
    "\n",
    "Para algún gen de interés, realice lo siguiente: \n",
    "\n",
    "1. Una búsqueda en la página del [NCBI nucleotide](https://www.ncbi.nlm.nih.gov/nucleotide/).\n",
    "\n",
    "2. Descargue el ```Accession List``` de su búsqueda.\n",
    "\n",
    "3. Cargue el ```Accession List``` en este notebook y haga una descarga de la data tipo ```genbank``` utilizando los diez primeros IDs de accesión. \n",
    "\n",
    "4. Arme un árbol filogenético para los resultados del paso 3.\n",
    "\n",
    "5. Interprete el árbol del paso 4. "
   ]
  },
  {
   "cell_type": "code",
   "execution_count": 1,
   "metadata": {},
   "outputs": [
    {
     "ename": "ApplicationError",
     "evalue": "Non-zero return code 4294967295 from '\"C:\\\\Program Files (x86)\\\\ClustalW2\\\\clustalw2.exe\" -infile=./Data/sequence.fasta', message 'ERROR: No sequences in file. No alignment!'",
     "output_type": "error",
     "traceback": [
      "\u001b[1;31m---------------------------------------------------------------------------\u001b[0m",
      "\u001b[1;31mApplicationError\u001b[0m                          Traceback (most recent call last)",
      "\u001b[1;32mc:\\Users\\INTEL\\Documents\\GitHub\\GBI6_EXAMEN_Python\\2021II_GBI6_ExamenParcialPython.ipynb Cell 14'\u001b[0m in \u001b[0;36m<module>\u001b[1;34m\u001b[0m\n\u001b[0;32m     <a href='vscode-notebook-cell:/c%3A/Users/INTEL/Documents/GitHub/GBI6_EXAMEN_Python/2021II_GBI6_ExamenParcialPython.ipynb#ch0000013?line=42'>43</a>\u001b[0m clustalw_cline \u001b[39m=\u001b[39m ClustalwCommandline(clustalw_exe, infile \u001b[39m=\u001b[39m \u001b[39m\"\u001b[39m\u001b[39m./Data/sequence.fasta\u001b[39m\u001b[39m\"\u001b[39m)\n\u001b[0;32m     <a href='vscode-notebook-cell:/c%3A/Users/INTEL/Documents/GitHub/GBI6_EXAMEN_Python/2021II_GBI6_ExamenParcialPython.ipynb#ch0000013?line=43'>44</a>\u001b[0m \u001b[39massert\u001b[39;00m os\u001b[39m.\u001b[39mpath\u001b[39m.\u001b[39misfile(clustalw_exe), \u001b[39m\"\u001b[39m\u001b[39mClustal_W executable is missing or not found\u001b[39m\u001b[39m\"\u001b[39m\n\u001b[1;32m---> <a href='vscode-notebook-cell:/c%3A/Users/INTEL/Documents/GitHub/GBI6_EXAMEN_Python/2021II_GBI6_ExamenParcialPython.ipynb#ch0000013?line=44'>45</a>\u001b[0m stdout, stderr \u001b[39m=\u001b[39m clustalw_cline()\n\u001b[0;32m     <a href='vscode-notebook-cell:/c%3A/Users/INTEL/Documents/GitHub/GBI6_EXAMEN_Python/2021II_GBI6_ExamenParcialPython.ipynb#ch0000013?line=45'>46</a>\u001b[0m \u001b[39mprint\u001b[39m(clustalw_cline)\n\u001b[0;32m     <a href='vscode-notebook-cell:/c%3A/Users/INTEL/Documents/GitHub/GBI6_EXAMEN_Python/2021II_GBI6_ExamenParcialPython.ipynb#ch0000013?line=46'>47</a>\u001b[0m ClustalAlign \u001b[39m=\u001b[39m AlignIO\u001b[39m.\u001b[39mread(\u001b[39m\"\u001b[39m\u001b[39mdata/sequence.aln\u001b[39m\u001b[39m\"\u001b[39m, \u001b[39m\"\u001b[39m\u001b[39mclustal\u001b[39m\u001b[39m\"\u001b[39m)\n",
      "File \u001b[1;32m~\\AppData\\Local\\Programs\\Python\\Python310\\lib\\site-packages\\Bio\\Application\\__init__.py:574\u001b[0m, in \u001b[0;36mAbstractCommandline.__call__\u001b[1;34m(self, stdin, stdout, stderr, cwd, env)\u001b[0m\n\u001b[0;32m    <a href='file:///~/AppData/Local/Programs/Python/Python310/lib/site-packages/Bio/Application/__init__.py?line=570'>571</a>\u001b[0m     stderr_arg\u001b[39m.\u001b[39mclose()\n\u001b[0;32m    <a href='file:///~/AppData/Local/Programs/Python/Python310/lib/site-packages/Bio/Application/__init__.py?line=572'>573</a>\u001b[0m \u001b[39mif\u001b[39;00m return_code:\n\u001b[1;32m--> <a href='file:///~/AppData/Local/Programs/Python/Python310/lib/site-packages/Bio/Application/__init__.py?line=573'>574</a>\u001b[0m     \u001b[39mraise\u001b[39;00m ApplicationError(return_code, \u001b[39mstr\u001b[39m(\u001b[39mself\u001b[39m), stdout_str, stderr_str)\n\u001b[0;32m    <a href='file:///~/AppData/Local/Programs/Python/Python310/lib/site-packages/Bio/Application/__init__.py?line=574'>575</a>\u001b[0m \u001b[39mreturn\u001b[39;00m stdout_str, stderr_str\n",
      "\u001b[1;31mApplicationError\u001b[0m: Non-zero return code 4294967295 from '\"C:\\\\Program Files (x86)\\\\ClustalW2\\\\clustalw2.exe\" -infile=./Data/sequence.fasta', message 'ERROR: No sequences in file. No alignment!'"
     ]
    }
   ],
   "source": [
    "# Código del ejercicio 6\n",
    "import Bio \n",
    "from Bio import Entrez\n",
    "from Bio.Seq import Seq\n",
    "from Bio import SeqIO\n",
    "from IPython.core.display import Image\n",
    "# Librerias para armar el árbol filogénetico\n",
    "from Bio import AlignIO\n",
    "from Bio.Align.Applications import ClustalwCommandline\n",
    "import os\n",
    "from Bio import Phylo\n",
    "from Bio.Phylo.TreeConstruction import DistanceTreeConstructor\n",
    "from Bio.Phylo.TreeConstruction import DistanceCalculator\n",
    "\n",
    "import matplotlib\n",
    "import matplotlib.pyplot as plt\n",
    "import ipywidgets \n",
    "\n",
    "import warnings\n",
    "warnings.filterwarnings('ignore') \n",
    "\n",
    "#Seleccionar los 10 primeros IDs del Accession List y descargar la data tipo Genbank \n",
    "# de la especie seleccionda, Valeriana secunda \n",
    "with open(\"Data/sequence.seq\",\"r\") as archivo:\n",
    "     listas = [\"HQ878282.1\", \"JF270125.1\", \"JF269924.1\", \"JF269770.1\", \"JF269616.1\", \"JF269417.1\",\n",
    "               \"AY794290.1\", \"AY794379.1\", \"AY792928.1\", \"AY792865.1\"]      \n",
    "Entrez.email = \"jessica.verdezoto@est.ikiam.edu.ec\"\n",
    "ofile = open(\"./Data/sequence.gb\", \"w\")\n",
    "with Entrez.efetch( db=\"nucleotide\", rettype=\"gb\", retmode=\"text\", id= listas\n",
    "                  ) as handle: \n",
    "    for seq_record in SeqIO.parse(handle, \"gb\"):\n",
    "        ofile.write(\">\"+str(seq_record.id)+str(seq_record.description[:50])+'\\n')\n",
    "        ofile.write(str(seq_record.seq)+'\\n')\n",
    "        ofile.write('\\n')\n",
    "DatosFast=open('./Data/sequence.fasta','w')\n",
    "with open(\"./Data/sequence.gb\",'r') as genbank: \n",
    "    a=genbank.read()\n",
    "    for line in a:\n",
    "        DatosFast.write(str(line))\n",
    "        \n",
    "#Agregar la data para el secuenciamiento y realizar la alneación para los IDs, se usa ClustalW2\n",
    "clustalw_exe = r\"C:\\Program Files (x86)\\ClustalW2\\clustalw2.exe\"\n",
    "clustalw_cline = ClustalwCommandline(clustalw_exe, infile = \"./Data/sequence.fasta\")\n",
    "assert os.path.isfile(clustalw_exe), \"Clustal_W executable is missing or not found\"\n",
    "stdout, stderr = clustalw_cline()\n",
    "print(clustalw_cline)\n",
    "ClustalAlign = AlignIO.read(\"data/sequence.aln\", \"clustal\")\n",
    "print(ClustalAlign)\n",
    "\n",
    "\n",
    "\n",
    "\n",
    "\n",
    "\n",
    "\n",
    "\n",
    "\n",
    "\n",
    "\n"
   ]
  },
  {
   "cell_type": "markdown",
   "metadata": {},
   "source": [
    "**Escriba aquí la interpretación del árbol**"
   ]
  },
  {
   "cell_type": "markdown",
   "metadata": {},
   "source": [
    "## Ejercicio 7 [1 punto]\n",
    "\n",
    "\n",
    "1. Cree en GitHub un repositorio de nombre ```GBI6_ExamenPython```. \n",
    "2. Cree un archivo ```Readme.md``` que debe tener lo siguiente: \n",
    "- Datos personales\n",
    "- Características del computador\n",
    "- Versión de Python/Anaconda y de cada uno de los módulos/paquetes y utilizados\n",
    "- Explicación de la data utilizada\n",
    "\n",
    "3. Cree un directorio de nombre ```data``` donde deben estar guardado la data utilizada \n",
    "4. Realice al menos 1 control de la versión (commits) por cada ejercicio (del 1 al 6), con un mensaje que inicie como: \n",
    "\n"
   ]
  }
 ],
 "metadata": {
  "kernelspec": {
   "display_name": "Python 3 (ipykernel)",
   "language": "python",
   "name": "python3"
  },
  "language_info": {
   "codemirror_mode": {
    "name": "ipython",
    "version": 3
   },
   "file_extension": ".py",
   "mimetype": "text/x-python",
   "name": "python",
   "nbconvert_exporter": "python",
   "pygments_lexer": "ipython3",
   "version": "3.10.2"
  },
  "latex_envs": {
   "LaTeX_envs_menu_present": true,
   "autoclose": false,
   "autocomplete": true,
   "bibliofile": "biblio.bib",
   "cite_by": "apalike",
   "current_citInitial": 1,
   "eqLabelWithNumbers": true,
   "eqNumInitial": 1,
   "hotkeys": {
    "equation": "Ctrl-E",
    "itemize": "Ctrl-I"
   },
   "labels_anchors": false,
   "latex_user_defs": false,
   "report_style_numbering": false,
   "user_envs_cfg": false
  },
  "toc": {
   "base_numbering": 1,
   "nav_menu": {},
   "number_sections": true,
   "sideBar": false,
   "skip_h1_title": false,
   "title_cell": "Table of Contents",
   "title_sidebar": "Contents",
   "toc_cell": false,
   "toc_position": {
    "height": "1152.67px",
    "left": "41px",
    "top": "110px",
    "width": "253.458px"
   },
   "toc_section_display": true,
   "toc_window_display": false
  },
  "varInspector": {
   "cols": {
    "lenName": 16,
    "lenType": 16,
    "lenVar": 40
   },
   "kernels_config": {
    "python": {
     "delete_cmd_postfix": "",
     "delete_cmd_prefix": "del ",
     "library": "var_list.py",
     "varRefreshCmd": "print(var_dic_list())"
    },
    "r": {
     "delete_cmd_postfix": ") ",
     "delete_cmd_prefix": "rm(",
     "library": "var_list.r",
     "varRefreshCmd": "cat(var_dic_list()) "
    }
   },
   "types_to_exclude": [
    "module",
    "function",
    "builtin_function_or_method",
    "instance",
    "_Feature"
   ],
   "window_display": false
  }
 },
 "nbformat": 4,
 "nbformat_minor": 4
}
